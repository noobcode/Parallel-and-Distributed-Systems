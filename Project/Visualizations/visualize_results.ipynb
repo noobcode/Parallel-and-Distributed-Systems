{
 "cells": [
  {
   "cell_type": "markdown",
   "metadata": {},
   "source": [
    "# TODO\n",
    "- (argmax, max) per speedup e scalabilita\n",
    "- qualcosa vs dimensione collezione (n) per vedere la gustafson legge"
   ]
  },
  {
   "cell_type": "code",
   "execution_count": 158,
   "metadata": {
    "collapsed": true
   },
   "outputs": [],
   "source": [
    "import matplotlib.pyplot as plt\n",
    "import pandas as pd\n",
    "import numpy as np"
   ]
  },
  {
   "cell_type": "code",
   "execution_count": 159,
   "metadata": {},
   "outputs": [
    {
     "data": {
      "text/html": [
       "<div>\n",
       "<style scoped>\n",
       "    .dataframe tbody tr th:only-of-type {\n",
       "        vertical-align: middle;\n",
       "    }\n",
       "\n",
       "    .dataframe tbody tr th {\n",
       "        vertical-align: top;\n",
       "    }\n",
       "\n",
       "    .dataframe thead th {\n",
       "        text-align: right;\n",
       "    }\n",
       "</style>\n",
       "<table border=\"1\" class=\"dataframe\">\n",
       "  <thead>\n",
       "    <tr style=\"text-align: right;\">\n",
       "      <th></th>\n",
       "      <th>max_nw</th>\n",
       "      <th>active_workers_history</th>\n",
       "      <th>service_time_history</th>\n",
       "      <th>service_time_goal</th>\n",
       "      <th>emitter_elapsed_time_history</th>\n",
       "      <th>workers_elapsed_time_history</th>\n",
       "      <th>collector_elapsed_time_history</th>\n",
       "    </tr>\n",
       "  </thead>\n",
       "  <tbody>\n",
       "    <tr>\n",
       "      <th>0</th>\n",
       "      <td>8</td>\n",
       "      <td>1</td>\n",
       "      <td>593</td>\n",
       "      <td>1000</td>\n",
       "      <td>580</td>\n",
       "      <td>1187</td>\n",
       "      <td>1295</td>\n",
       "    </tr>\n",
       "    <tr>\n",
       "      <th>1</th>\n",
       "      <td>8</td>\n",
       "      <td>1</td>\n",
       "      <td>1198</td>\n",
       "      <td>1000</td>\n",
       "      <td>7</td>\n",
       "      <td>1199</td>\n",
       "      <td>0</td>\n",
       "    </tr>\n",
       "    <tr>\n",
       "      <th>2</th>\n",
       "      <td>8</td>\n",
       "      <td>1</td>\n",
       "      <td>1124</td>\n",
       "      <td>1000</td>\n",
       "      <td>1219</td>\n",
       "      <td>1121</td>\n",
       "      <td>1157</td>\n",
       "    </tr>\n",
       "    <tr>\n",
       "      <th>3</th>\n",
       "      <td>8</td>\n",
       "      <td>1</td>\n",
       "      <td>1123</td>\n",
       "      <td>1000</td>\n",
       "      <td>11</td>\n",
       "      <td>1123</td>\n",
       "      <td>0</td>\n",
       "    </tr>\n",
       "    <tr>\n",
       "      <th>4</th>\n",
       "      <td>8</td>\n",
       "      <td>1</td>\n",
       "      <td>1111</td>\n",
       "      <td>1000</td>\n",
       "      <td>1157</td>\n",
       "      <td>1111</td>\n",
       "      <td>1303</td>\n",
       "    </tr>\n",
       "  </tbody>\n",
       "</table>\n",
       "</div>"
      ],
      "text/plain": [
       "   max_nw  active_workers_history  service_time_history  service_time_goal  \\\n",
       "0       8                       1                   593               1000   \n",
       "1       8                       1                  1198               1000   \n",
       "2       8                       1                  1124               1000   \n",
       "3       8                       1                  1123               1000   \n",
       "4       8                       1                  1111               1000   \n",
       "\n",
       "   emitter_elapsed_time_history  workers_elapsed_time_history  \\\n",
       "0                           580                          1187   \n",
       "1                             7                          1199   \n",
       "2                          1219                          1121   \n",
       "3                            11                          1123   \n",
       "4                          1157                          1111   \n",
       "\n",
       "   collector_elapsed_time_history  \n",
       "0                            1295  \n",
       "1                               0  \n",
       "2                            1157  \n",
       "3                               0  \n",
       "4                            1303  "
      ]
     },
     "execution_count": 159,
     "metadata": {},
     "output_type": "execute_result"
    }
   ],
   "source": [
    "results_df = pd.read_csv(\"../Statistics/service_time_trial.csv\")\n",
    "results_df.head()"
   ]
  },
  {
   "cell_type": "markdown",
   "metadata": {},
   "source": [
    "### Service Time History"
   ]
  },
  {
   "cell_type": "code",
   "execution_count": 160,
   "metadata": {},
   "outputs": [
    {
     "data": {
      "image/png": "[encoded data removed]",
      "text/plain": [
       "<Figure size 432x288 with 1 Axes>"
      ]
     },
     "metadata": {},
     "output_type": "display_data"
    }
   ],
   "source": [
    "# plot servive_time_history vs service_time_goal\n",
    "results_df.plot(y=['service_time_history', 'service_time_goal'],\n",
    "                style=['-', '--'],\n",
    "                color=['gray', 'black'])\n",
    "\n",
    "plt.ylabel('Service Time (microseconds)')\n",
    "plt.xlabel('Task')\n",
    "plt.title('Service Time History')\n",
    "plt.show()"
   ]
  },
  {
   "cell_type": "markdown",
   "metadata": {},
   "source": [
    "### Service Time Error"
   ]
  },
  {
   "cell_type": "code",
   "execution_count": 161,
   "metadata": {},
   "outputs": [
    {
     "data": {
      "image/png": "[encoded data removed]",
      "text/plain": [
       "<Figure size 432x288 with 1 Axes>"
      ]
     },
     "metadata": {},
     "output_type": "display_data"
    }
   ],
   "source": [
    "# plot relative error between  service_time_goal and service_time_history\n",
    "y1 = np.array(results_df['service_time_history'])\n",
    "y2 = np.array(results_df['service_time_goal'])\n",
    "\n",
    "relative_error = (y1-y2)/y2\n",
    "\n",
    "plt.plot(relative_error)\n",
    "plt.ylabel('Relative Error')\n",
    "plt.xlabel('Task')\n",
    "plt.title('Service Time Error')\n",
    "plt.show()"
   ]
  },
  {
   "cell_type": "markdown",
   "metadata": {},
   "source": [
    "### Throughput"
   ]
  },
  {
   "cell_type": "code",
   "execution_count": 162,
   "metadata": {},
   "outputs": [
    {
     "data": {
      "image/png": "[encoded data removed]",
      "text/plain": [
       "<Figure size 432x288 with 1 Axes>"
      ]
     },
     "metadata": {},
     "output_type": "display_data"
    }
   ],
   "source": [
    "throughput_history = 1/y1\n",
    "throughtput_goal = 1/y2\n",
    "\n",
    "plt.plot(throughput_history,'-', color='black', label='throughput history')\n",
    "plt.plot(throughtput_goal, '--', color='black', label='throughput goal')\n",
    "plt.xlabel('Tasks')\n",
    "plt.ylabel('Throughput')\n",
    "plt.title('Throughput History')\n",
    "plt.show()"
   ]
  },
  {
   "cell_type": "markdown",
   "metadata": {},
   "source": [
    "### Parallelism Degree"
   ]
  },
  {
   "cell_type": "code",
   "execution_count": 163,
   "metadata": {},
   "outputs": [
    {
     "data": {
      "image/png": "[encoded data removed]",
      "text/plain": [
       "<Figure size 432x288 with 1 Axes>"
      ]
     },
     "metadata": {},
     "output_type": "display_data"
    }
   ],
   "source": [
    "# plot parallelism degree vs max nw\n",
    "results_df.plot(y=['active_workers_history', 'max_nw'],\n",
    "                style=['-', '--'],\n",
    "                color=['gray', 'black'])\n",
    "plt.ylabel('Workers')\n",
    "plt.xlabel('Tasks')\n",
    "plt.title('Parallelism Degree History')\n",
    "plt.show()"
   ]
  },
  {
   "cell_type": "code",
   "execution_count": 164,
   "metadata": {},
   "outputs": [
    {
     "data": {
      "image/png": "[encoded data removed]",
      "text/plain": [
       "<Figure size 432x288 with 1 Axes>"
      ]
     },
     "metadata": {},
     "output_type": "display_data"
    }
   ],
   "source": [
    "# plot emitter, workers and collector elapsed time history\n",
    "results_df.plot(y=['emitter_elapsed_time_history','workers_elapsed_time_history','collector_elapsed_time_history'],\n",
    "                style=['-', '--', ':'],\n",
    "                color=['lightgray', 'black', 'darkgray'])\n",
    "plt.ylabel('Elapsed Time')\n",
    "plt.xlabel('Tasks')\n",
    "plt.title('Elapsed Time History')\n",
    "plt.show()"
   ]
  },
  {
   "cell_type": "markdown",
   "metadata": {},
   "source": [
    "### Completion Time"
   ]
  },
  {
   "cell_type": "code",
   "execution_count": 165,
   "metadata": {},
   "outputs": [
    {
     "data": {
      "text/html": [
       "<div>\n",
       "<style scoped>\n",
       "    .dataframe tbody tr th:only-of-type {\n",
       "        vertical-align: middle;\n",
       "    }\n",
       "\n",
       "    .dataframe tbody tr th {\n",
       "        vertical-align: top;\n",
       "    }\n",
       "\n",
       "    .dataframe thead th {\n",
       "        text-align: right;\n",
       "    }\n",
       "</style>\n",
       "<table border=\"1\" class=\"dataframe\">\n",
       "  <thead>\n",
       "    <tr style=\"text-align: right;\">\n",
       "      <th></th>\n",
       "      <th>nw</th>\n",
       "      <th>completion_time</th>\n",
       "    </tr>\n",
       "  </thead>\n",
       "  <tbody>\n",
       "    <tr>\n",
       "      <th>0</th>\n",
       "      <td>1</td>\n",
       "      <td>626750</td>\n",
       "    </tr>\n",
       "    <tr>\n",
       "      <th>1</th>\n",
       "      <td>2</td>\n",
       "      <td>310072</td>\n",
       "    </tr>\n",
       "    <tr>\n",
       "      <th>2</th>\n",
       "      <td>3</td>\n",
       "      <td>211698</td>\n",
       "    </tr>\n",
       "    <tr>\n",
       "      <th>3</th>\n",
       "      <td>4</td>\n",
       "      <td>164796</td>\n",
       "    </tr>\n",
       "    <tr>\n",
       "      <th>4</th>\n",
       "      <td>5</td>\n",
       "      <td>160883</td>\n",
       "    </tr>\n",
       "  </tbody>\n",
       "</table>\n",
       "</div>"
      ],
      "text/plain": [
       "   nw  completion_time\n",
       "0   1           626750\n",
       "1   2           310072\n",
       "2   3           211698\n",
       "3   4           164796\n",
       "4   5           160883"
      ]
     },
     "execution_count": 165,
     "metadata": {},
     "output_type": "execute_result"
    }
   ],
   "source": [
    "tc_vs_nw_df = pd.read_csv('../Statistics/completion_time_vs_nw.csv')\n",
    "tc_vs_nw_df.head()"
   ]
  },
  {
   "cell_type": "code",
   "execution_count": 166,
   "metadata": {},
   "outputs": [
    {
     "data": {
      "image/png": "[encoded data removed]",
      "text/plain": [
       "<Figure size 432x288 with 1 Axes>"
      ]
     },
     "metadata": {},
     "output_type": "display_data"
    }
   ],
   "source": [
    "tc_vs_nw_df.plot(x='nw', y='completion_time', style='-', color='black')\n",
    "plt.xlabel('#worker')\n",
    "plt.ylabel('Completion Time (microseconds)')\n",
    "plt.title('Completion Time')\n",
    "plt.show()"
   ]
  },
  {
   "cell_type": "code",
   "execution_count": 167,
   "metadata": {},
   "outputs": [
    {
     "name": "stdout",
     "output_type": "stream",
     "text": [
      "min completion time: 152303 obtained with 8 workers\n"
     ]
    },
    {
     "name": "stderr",
     "output_type": "stream",
     "text": [
      "/usr/local/lib/python3.5/dist-packages/numpy/core/fromnumeric.py:52: FutureWarning: 'argmin' is deprecated, use 'idxmin' instead. The behavior of 'argmin'\n",
      "will be corrected to return the positional minimum in the future.\n",
      "Use 'series.values.argmin' to get the position of the minimum now.\n",
      "  return getattr(obj, method)(*args, **kwds)\n"
     ]
    }
   ],
   "source": [
    "print(\"min completion time:\", np.min(tc_vs_nw_df['completion_time']), \n",
    "      \"obtained with\", np.argmin(tc_vs_nw_df['completion_time'])+1, \"workers\")"
   ]
  },
  {
   "cell_type": "markdown",
   "metadata": {},
   "source": [
    "### Scalability"
   ]
  },
  {
   "cell_type": "code",
   "execution_count": 168,
   "metadata": {
    "scrolled": true
   },
   "outputs": [
    {
     "data": {
      "image/png": "[encoded data removed]",
      "text/plain": [
       "<Figure size 432x288 with 1 Axes>"
      ]
     },
     "metadata": {},
     "output_type": "display_data"
    }
   ],
   "source": [
    "# scalability\n",
    "tc = tc_vs_nw_df['completion_time']\n",
    "nw = tc_vs_nw_df['nw']\n",
    "\n",
    "scalability = [tc[0]/float(t) for t in tc]\n",
    "\n",
    "plt.plot(nw, scalability, linestyle='-', label='actual scalability', color='black')\n",
    "plt.plot(nw, nw, linestyle='--', label='ideal scalability', color='black')\n",
    "plt.legend(loc='best')\n",
    "plt.xlabel('#worker')\n",
    "plt.ylabel('Scalability')\n",
    "plt.ylim([0, np.max(nw)])\n",
    "plt.xlim([1, np.max(nw)])\n",
    "plt.title('Scalability')\n",
    "plt.show()"
   ]
  },
  {
   "cell_type": "code",
   "execution_count": 169,
   "metadata": {},
   "outputs": [
    {
     "name": "stdout",
     "output_type": "stream",
     "text": [
      "max scalability: 4.1152 obtained with 8 workers\n"
     ]
    }
   ],
   "source": [
    "n_worker, max_scalability = np.argmax(scalability), np.max(scalability)\n",
    "print(\"max scalability:\", round(max_scalability,4), \"obtained with\", n_worker+1, \"workers\")"
   ]
  },
  {
   "cell_type": "markdown",
   "metadata": {},
   "source": [
    "### Speedup"
   ]
  },
  {
   "cell_type": "code",
   "execution_count": 170,
   "metadata": {},
   "outputs": [
    {
     "data": {
      "text/html": [
       "<div>\n",
       "<style scoped>\n",
       "    .dataframe tbody tr th:only-of-type {\n",
       "        vertical-align: middle;\n",
       "    }\n",
       "\n",
       "    .dataframe tbody tr th {\n",
       "        vertical-align: top;\n",
       "    }\n",
       "\n",
       "    .dataframe thead th {\n",
       "        text-align: right;\n",
       "    }\n",
       "</style>\n",
       "<table border=\"1\" class=\"dataframe\">\n",
       "  <thead>\n",
       "    <tr style=\"text-align: right;\">\n",
       "      <th></th>\n",
       "      <th>sequential_time</th>\n",
       "    </tr>\n",
       "  </thead>\n",
       "  <tbody>\n",
       "    <tr>\n",
       "      <th>0</th>\n",
       "      <td>600065</td>\n",
       "    </tr>\n",
       "  </tbody>\n",
       "</table>\n",
       "</div>"
      ],
      "text/plain": [
       "   sequential_time\n",
       "0           600065"
      ]
     },
     "execution_count": 170,
     "metadata": {},
     "output_type": "execute_result"
    }
   ],
   "source": [
    "# speedup\n",
    "sequential_time = pd.read_csv('../Statistics/sequential_time.csv')\n",
    "sequential_time"
   ]
  },
  {
   "cell_type": "code",
   "execution_count": 171,
   "metadata": {},
   "outputs": [
    {
     "data": {
      "image/png": "[encoded data removed]",
      "text/plain": [
       "<Figure size 432x288 with 1 Axes>"
      ]
     },
     "metadata": {},
     "output_type": "display_data"
    }
   ],
   "source": [
    "tseq = sequential_time['sequential_time']\n",
    "speedup = [tseq/float(t) for t in tc]\n",
    "\n",
    "plt.plot(nw, speedup, linestyle='-', label='actual speedup', color='black')\n",
    "plt.plot(nw, nw, linestyle='--', label='ideal speedup', color='black')\n",
    "plt.legend(loc='best')\n",
    "plt.xlabel('#worker')\n",
    "plt.ylabel('Speedup')\n",
    "plt.ylim([0, np.max(nw)])\n",
    "plt.xlim([1, np.max(nw)])\n",
    "plt.title('Speedup')\n",
    "plt.show()"
   ]
  },
  {
   "cell_type": "code",
   "execution_count": 172,
   "metadata": {},
   "outputs": [
    {
     "name": "stdout",
     "output_type": "stream",
     "text": [
      "max speedup: 3.9399 obtained with 8 workers\n"
     ]
    }
   ],
   "source": [
    "n_worker, max_speedup = np.argmax(speedup), np.max(speedup)\n",
    "print(\"max speedup:\", round(max_speedup,4), \"obtained with\", n_worker+1, \"workers\")"
   ]
  },
  {
   "cell_type": "markdown",
   "metadata": {},
   "source": [
    "### Efficiency"
   ]
  },
  {
   "cell_type": "code",
   "execution_count": 173,
   "metadata": {},
   "outputs": [
    {
     "data": {
      "image/png": "[encoded data removed]",
      "text/plain": [
       "<Figure size 432x288 with 1 Axes>"
      ]
     },
     "metadata": {},
     "output_type": "display_data"
    }
   ],
   "source": [
    "efficiency = [ sp/float(n) for n, sp in zip(nw, speedup)]\n",
    "plt.hlines(1, 1, max(nw), linestyle='--', label='max efficiency')\n",
    "plt.plot(nw, efficiency, color='black', label='efficiency')\n",
    "plt.xlabel('# Worker')\n",
    "plt.ylabel('Efficiency')\n",
    "plt.title('Efficiency')\n",
    "plt.legend(loc='best')\n",
    "plt.show()"
   ]
  },
  {
   "cell_type": "code",
   "execution_count": 174,
   "metadata": {},
   "outputs": [
    {
     "name": "stdout",
     "output_type": "stream",
     "text": [
      "max efficiency: 0.9676220361722438 with nw= 2\n",
      "min efficiency: 0.492492761140621 with nw= 8\n"
     ]
    }
   ],
   "source": [
    "print(\"max efficiency:\", np.max(efficiency), \"with nw=\", np.argmax(efficiency)+1)\n",
    "print(\"min efficiency:\", np.min(efficiency), \"with nw=\", np.argmin(efficiency)+1)"
   ]
  },
  {
   "cell_type": "markdown",
   "metadata": {},
   "source": [
    "### Alpha\n",
    "- colonna 1: alpha\n",
    "- colonna 2: ts_goal\n",
    "- colonna 3-fine: service_time_history"
   ]
  },
  {
   "cell_type": "code",
   "execution_count": 175,
   "metadata": {},
   "outputs": [
    {
     "data": {
      "text/html": [
       "<div>\n",
       "<style scoped>\n",
       "    .dataframe tbody tr th:only-of-type {\n",
       "        vertical-align: middle;\n",
       "    }\n",
       "\n",
       "    .dataframe tbody tr th {\n",
       "        vertical-align: top;\n",
       "    }\n",
       "\n",
       "    .dataframe thead th {\n",
       "        text-align: right;\n",
       "    }\n",
       "</style>\n",
       "<table border=\"1\" class=\"dataframe\">\n",
       "  <thead>\n",
       "    <tr style=\"text-align: right;\">\n",
       "      <th></th>\n",
       "      <th>0</th>\n",
       "      <th>1</th>\n",
       "      <th>2</th>\n",
       "      <th>3</th>\n",
       "      <th>4</th>\n",
       "      <th>5</th>\n",
       "      <th>6</th>\n",
       "      <th>7</th>\n",
       "      <th>8</th>\n",
       "      <th>9</th>\n",
       "      <th>...</th>\n",
       "      <th>592</th>\n",
       "      <th>593</th>\n",
       "      <th>594</th>\n",
       "      <th>595</th>\n",
       "      <th>596</th>\n",
       "      <th>597</th>\n",
       "      <th>598</th>\n",
       "      <th>599</th>\n",
       "      <th>600</th>\n",
       "      <th>601</th>\n",
       "    </tr>\n",
       "  </thead>\n",
       "  <tbody>\n",
       "    <tr>\n",
       "      <th>0</th>\n",
       "      <td>0.00</td>\n",
       "      <td>1000</td>\n",
       "      <td>507</td>\n",
       "      <td>1014</td>\n",
       "      <td>1014</td>\n",
       "      <td>1014</td>\n",
       "      <td>1014</td>\n",
       "      <td>1014</td>\n",
       "      <td>1014</td>\n",
       "      <td>1014</td>\n",
       "      <td>...</td>\n",
       "      <td>1014</td>\n",
       "      <td>1014</td>\n",
       "      <td>1014</td>\n",
       "      <td>1014</td>\n",
       "      <td>1014</td>\n",
       "      <td>1014</td>\n",
       "      <td>1014</td>\n",
       "      <td>1014</td>\n",
       "      <td>1014</td>\n",
       "      <td>1014</td>\n",
       "    </tr>\n",
       "    <tr>\n",
       "      <th>1</th>\n",
       "      <td>0.05</td>\n",
       "      <td>1000</td>\n",
       "      <td>505</td>\n",
       "      <td>1010</td>\n",
       "      <td>1009</td>\n",
       "      <td>1008</td>\n",
       "      <td>1007</td>\n",
       "      <td>1006</td>\n",
       "      <td>1006</td>\n",
       "      <td>1006</td>\n",
       "      <td>...</td>\n",
       "      <td>1006</td>\n",
       "      <td>1006</td>\n",
       "      <td>1009</td>\n",
       "      <td>1012</td>\n",
       "      <td>1014</td>\n",
       "      <td>1016</td>\n",
       "      <td>1018</td>\n",
       "      <td>1020</td>\n",
       "      <td>1024</td>\n",
       "      <td>1025</td>\n",
       "    </tr>\n",
       "    <tr>\n",
       "      <th>2</th>\n",
       "      <td>0.10</td>\n",
       "      <td>1000</td>\n",
       "      <td>506</td>\n",
       "      <td>1012</td>\n",
       "      <td>1012</td>\n",
       "      <td>1012</td>\n",
       "      <td>1011</td>\n",
       "      <td>1010</td>\n",
       "      <td>1009</td>\n",
       "      <td>1016</td>\n",
       "      <td>...</td>\n",
       "      <td>1052</td>\n",
       "      <td>1051</td>\n",
       "      <td>1050</td>\n",
       "      <td>1049</td>\n",
       "      <td>1048</td>\n",
       "      <td>1047</td>\n",
       "      <td>1047</td>\n",
       "      <td>1047</td>\n",
       "      <td>1046</td>\n",
       "      <td>1046</td>\n",
       "    </tr>\n",
       "    <tr>\n",
       "      <th>3</th>\n",
       "      <td>0.15</td>\n",
       "      <td>1000</td>\n",
       "      <td>505</td>\n",
       "      <td>1009</td>\n",
       "      <td>1009</td>\n",
       "      <td>1009</td>\n",
       "      <td>1008</td>\n",
       "      <td>1013</td>\n",
       "      <td>1017</td>\n",
       "      <td>1021</td>\n",
       "      <td>...</td>\n",
       "      <td>1006</td>\n",
       "      <td>1006</td>\n",
       "      <td>1006</td>\n",
       "      <td>1006</td>\n",
       "      <td>1006</td>\n",
       "      <td>1006</td>\n",
       "      <td>1006</td>\n",
       "      <td>1006</td>\n",
       "      <td>1015</td>\n",
       "      <td>1021</td>\n",
       "    </tr>\n",
       "    <tr>\n",
       "      <th>4</th>\n",
       "      <td>0.20</td>\n",
       "      <td>1000</td>\n",
       "      <td>507</td>\n",
       "      <td>1013</td>\n",
       "      <td>1011</td>\n",
       "      <td>1011</td>\n",
       "      <td>1055</td>\n",
       "      <td>1046</td>\n",
       "      <td>1045</td>\n",
       "      <td>1038</td>\n",
       "      <td>...</td>\n",
       "      <td>1050</td>\n",
       "      <td>1053</td>\n",
       "      <td>1055</td>\n",
       "      <td>1057</td>\n",
       "      <td>1059</td>\n",
       "      <td>1061</td>\n",
       "      <td>1062</td>\n",
       "      <td>1064</td>\n",
       "      <td>1053</td>\n",
       "      <td>1052</td>\n",
       "    </tr>\n",
       "  </tbody>\n",
       "</table>\n",
       "<p>5 rows × 602 columns</p>\n",
       "</div>"
      ],
      "text/plain": [
       "    0     1    2     3     4     5     6     7     8     9    ...    592  \\\n",
       "0  0.00  1000  507  1014  1014  1014  1014  1014  1014  1014  ...   1014   \n",
       "1  0.05  1000  505  1010  1009  1008  1007  1006  1006  1006  ...   1006   \n",
       "2  0.10  1000  506  1012  1012  1012  1011  1010  1009  1016  ...   1052   \n",
       "3  0.15  1000  505  1009  1009  1009  1008  1013  1017  1021  ...   1006   \n",
       "4  0.20  1000  507  1013  1011  1011  1055  1046  1045  1038  ...   1050   \n",
       "\n",
       "    593   594   595   596   597   598   599   600   601  \n",
       "0  1014  1014  1014  1014  1014  1014  1014  1014  1014  \n",
       "1  1006  1009  1012  1014  1016  1018  1020  1024  1025  \n",
       "2  1051  1050  1049  1048  1047  1047  1047  1046  1046  \n",
       "3  1006  1006  1006  1006  1006  1006  1006  1015  1021  \n",
       "4  1053  1055  1057  1059  1061  1062  1064  1053  1052  \n",
       "\n",
       "[5 rows x 602 columns]"
      ]
     },
     "execution_count": 175,
     "metadata": {},
     "output_type": "execute_result"
    }
   ],
   "source": [
    "ts_vs_alpha_df = pd.read_csv(\"../Statistics/service_time_history_vs_alpha.csv\", header=None)\n",
    "ts_vs_alpha_df.head()"
   ]
  },
  {
   "cell_type": "markdown",
   "metadata": {},
   "source": [
    "- prova per n differenti"
   ]
  },
  {
   "cell_type": "code",
   "execution_count": 176,
   "metadata": {},
   "outputs": [
    {
     "data": {
      "text/plain": [
       "[]"
      ]
     },
     "execution_count": 176,
     "metadata": {},
     "output_type": "execute_result"
    },
    {
     "data": {
      "image/png": "[encoded data removed]",
      "text/plain": [
       "<Figure size 432x288 with 1 Axes>"
      ]
     },
     "metadata": {},
     "output_type": "display_data"
    }
   ],
   "source": [
    "#ts_vs_alpha_df.loc[0, 1:]\n",
    "alpha_values = ts_vs_alpha_df.loc[:,0]\n",
    "ts_goal = ts_vs_alpha_df.loc[0,1]\n",
    "\n",
    "ts_histories = np.array(ts_vs_alpha_df.loc[:, 2:])\n",
    "n_alpha, n_tasks = ts_histories.shape\n",
    "\n",
    "ts_goal = np.full((n_tasks),ts_goal)\n",
    "\n",
    "rel_errors = np.array([(ts - ts_goal)/ts_goal for ts in ts_histories])\n",
    "\n",
    "mean_rel_error = np.mean(rel_errors, 1)\n",
    "mean_abs_rel_error = np.mean(np.abs(rel_errors), 1)\n",
    "\n",
    "plt.plot(alpha_values, mean_rel_error, label='mean relative error', linestyle='-', color='black')\n",
    "plt.plot(alpha_values, mean_abs_rel_error, label='mean absolute relative error', linestyle='--', color='black')\n",
    "plt.legend(loc='best')\n",
    "plt.xlabel('Alpha')\n",
    "plt.ylabel('Relative Error')\n",
    "plt.title('Alpha')\n",
    "plt.plot()"
   ]
  },
  {
   "cell_type": "code",
   "execution_count": 177,
   "metadata": {},
   "outputs": [
    {
     "name": "stdout",
     "output_type": "stream",
     "text": [
      "min rel error: 0.0132 obtained with alpha: 0.0\n",
      "min abs rel error: 0.0148 obtained with alpha: 0.0\n"
     ]
    }
   ],
   "source": [
    "print(\"min rel error:\", round(np.min(mean_rel_error),4), \"obtained with alpha:\", alpha_values[np.argmin(mean_rel_error)])\n",
    "print(\"min abs rel error:\", round(np.min(mean_abs_rel_error),4), \"obtained with alpha:\", alpha_values[np.argmin(mean_abs_rel_error)])"
   ]
  },
  {
   "cell_type": "markdown",
   "metadata": {
    "collapsed": true
   },
   "source": [
    "### Max speedup / scalability vs task size"
   ]
  },
  {
   "cell_type": "code",
   "execution_count": 178,
   "metadata": {},
   "outputs": [
    {
     "data": {
      "text/html": [
       "<div>\n",
       "<style scoped>\n",
       "    .dataframe tbody tr th:only-of-type {\n",
       "        vertical-align: middle;\n",
       "    }\n",
       "\n",
       "    .dataframe tbody tr th {\n",
       "        vertical-align: top;\n",
       "    }\n",
       "\n",
       "    .dataframe thead th {\n",
       "        text-align: right;\n",
       "    }\n",
       "</style>\n",
       "<table border=\"1\" class=\"dataframe\">\n",
       "  <thead>\n",
       "    <tr style=\"text-align: right;\">\n",
       "      <th></th>\n",
       "      <th>task_size</th>\n",
       "      <th>sequential_time</th>\n",
       "    </tr>\n",
       "  </thead>\n",
       "  <tbody>\n",
       "    <tr>\n",
       "      <th>0</th>\n",
       "      <td>250</td>\n",
       "      <td>150070</td>\n",
       "    </tr>\n",
       "    <tr>\n",
       "      <th>1</th>\n",
       "      <td>500</td>\n",
       "      <td>300108</td>\n",
       "    </tr>\n",
       "    <tr>\n",
       "      <th>2</th>\n",
       "      <td>1000</td>\n",
       "      <td>600078</td>\n",
       "    </tr>\n",
       "    <tr>\n",
       "      <th>3</th>\n",
       "      <td>2000</td>\n",
       "      <td>1200112</td>\n",
       "    </tr>\n",
       "    <tr>\n",
       "      <th>4</th>\n",
       "      <td>4000</td>\n",
       "      <td>2400171</td>\n",
       "    </tr>\n",
       "  </tbody>\n",
       "</table>\n",
       "</div>"
      ],
      "text/plain": [
       "   task_size  sequential_time\n",
       "0        250           150070\n",
       "1        500           300108\n",
       "2       1000           600078\n",
       "3       2000          1200112\n",
       "4       4000          2400171"
      ]
     },
     "execution_count": 178,
     "metadata": {},
     "output_type": "execute_result"
    }
   ],
   "source": [
    "# load task_size vs sequential_time \n",
    "task_size_vs_tseq_df = pd.read_csv('../Statistics/task_size_vs_sequential_time.csv')\n",
    "task_size_vs_tseq_df.head()\n",
    "\n",
    "task_sizes = task_size_vs_tseq_df['task_size']\n",
    "sequential_times = task_size_vs_tseq_df['sequential_time']\n",
    "task_size_vs_tseq_df.head()"
   ]
  },
  {
   "cell_type": "code",
   "execution_count": 179,
   "metadata": {},
   "outputs": [
    {
     "data": {
      "text/html": [
       "<div>\n",
       "<style scoped>\n",
       "    .dataframe tbody tr th:only-of-type {\n",
       "        vertical-align: middle;\n",
       "    }\n",
       "\n",
       "    .dataframe tbody tr th {\n",
       "        vertical-align: top;\n",
       "    }\n",
       "\n",
       "    .dataframe thead th {\n",
       "        text-align: right;\n",
       "    }\n",
       "</style>\n",
       "<table border=\"1\" class=\"dataframe\">\n",
       "  <thead>\n",
       "    <tr style=\"text-align: right;\">\n",
       "      <th></th>\n",
       "      <th>nw</th>\n",
       "      <th>completion_time</th>\n",
       "    </tr>\n",
       "  </thead>\n",
       "  <tbody>\n",
       "    <tr>\n",
       "      <th>0</th>\n",
       "      <td>1</td>\n",
       "      <td>169610</td>\n",
       "    </tr>\n",
       "    <tr>\n",
       "      <th>1</th>\n",
       "      <td>2</td>\n",
       "      <td>85942</td>\n",
       "    </tr>\n",
       "    <tr>\n",
       "      <th>2</th>\n",
       "      <td>3</td>\n",
       "      <td>59117</td>\n",
       "    </tr>\n",
       "    <tr>\n",
       "      <th>3</th>\n",
       "      <td>4</td>\n",
       "      <td>51527</td>\n",
       "    </tr>\n",
       "    <tr>\n",
       "      <th>4</th>\n",
       "      <td>5</td>\n",
       "      <td>43697</td>\n",
       "    </tr>\n",
       "  </tbody>\n",
       "</table>\n",
       "</div>"
      ],
      "text/plain": [
       "   nw  completion_time\n",
       "0   1           169610\n",
       "1   2            85942\n",
       "2   3            59117\n",
       "3   4            51527\n",
       "4   5            43697"
      ]
     },
     "execution_count": 179,
     "metadata": {},
     "output_type": "execute_result"
    }
   ],
   "source": [
    "# load completion_time vs nw for each task size\n",
    "tc_vs_nw_df_list = []\n",
    "for task_size in task_sizes:\n",
    "    df = pd.read_csv('../Statistics/TaskSize/completion_time_vs_nw_task_size_' + \n",
    "                     str(task_size) + '.csv')\n",
    "    tc_vs_nw_df_list.append(df)\n",
    "\n",
    "tc_vs_nw_df_list[0].head()"
   ]
  },
  {
   "cell_type": "code",
   "execution_count": 180,
   "metadata": {
    "collapsed": true
   },
   "outputs": [],
   "source": [
    "max_speedups = []\n",
    "max_scalabilities = []\n",
    "\n",
    "for i in range(len(tc_vs_nw_df_list)):\n",
    "    tseq = sequential_times[i]\n",
    "    tc_list = df['completion_time']\n",
    "    speedup = [tseq/float(tc) for tc in tc_list]\n",
    "    scalability = [tc_list[0]/float(tc) for tc in tc_list]\n",
    "    \n",
    "    max_speedups.append(np.max(speedup))\n",
    "    max_scalabilities.append(np.max(scalability))"
   ]
  },
  {
   "cell_type": "code",
   "execution_count": 181,
   "metadata": {},
   "outputs": [
    {
     "data": {
      "image/png": "[encoded data removed]",
      "text/plain": [
       "<Figure size 432x288 with 1 Axes>"
      ]
     },
     "metadata": {},
     "output_type": "display_data"
    }
   ],
   "source": [
    "plt.plot(task_sizes, max_speedups, 'o-', color='black', label='max speedup')\n",
    "#plt.plot(task_sizes, max_scalabilities, 'x-', color='grey', label='max scalability')\n",
    "plt.xscale('log')\n",
    "plt.ylabel('Max Speedup')\n",
    "plt.xlabel('Task Size')\n",
    "plt.show()"
   ]
  },
  {
   "cell_type": "markdown",
   "metadata": {},
   "source": [
    "### Max Speedup / Scalability vs Collection Size"
   ]
  },
  {
   "cell_type": "code",
   "execution_count": 182,
   "metadata": {},
   "outputs": [
    {
     "data": {
      "text/html": [
       "<div>\n",
       "<style scoped>\n",
       "    .dataframe tbody tr th:only-of-type {\n",
       "        vertical-align: middle;\n",
       "    }\n",
       "\n",
       "    .dataframe tbody tr th {\n",
       "        vertical-align: top;\n",
       "    }\n",
       "\n",
       "    .dataframe thead th {\n",
       "        text-align: right;\n",
       "    }\n",
       "</style>\n",
       "<table border=\"1\" class=\"dataframe\">\n",
       "  <thead>\n",
       "    <tr style=\"text-align: right;\">\n",
       "      <th></th>\n",
       "      <th>collection_size</th>\n",
       "      <th>sequential_time</th>\n",
       "    </tr>\n",
       "  </thead>\n",
       "  <tbody>\n",
       "    <tr>\n",
       "      <th>0</th>\n",
       "      <td>300</td>\n",
       "      <td>300037</td>\n",
       "    </tr>\n",
       "    <tr>\n",
       "      <th>1</th>\n",
       "      <td>600</td>\n",
       "      <td>600075</td>\n",
       "    </tr>\n",
       "    <tr>\n",
       "      <th>2</th>\n",
       "      <td>1200</td>\n",
       "      <td>1200161</td>\n",
       "    </tr>\n",
       "    <tr>\n",
       "      <th>3</th>\n",
       "      <td>2400</td>\n",
       "      <td>2400263</td>\n",
       "    </tr>\n",
       "    <tr>\n",
       "      <th>4</th>\n",
       "      <td>4800</td>\n",
       "      <td>4800525</td>\n",
       "    </tr>\n",
       "  </tbody>\n",
       "</table>\n",
       "</div>"
      ],
      "text/plain": [
       "   collection_size  sequential_time\n",
       "0              300           300037\n",
       "1              600           600075\n",
       "2             1200          1200161\n",
       "3             2400          2400263\n",
       "4             4800          4800525"
      ]
     },
     "execution_count": 182,
     "metadata": {},
     "output_type": "execute_result"
    }
   ],
   "source": [
    "# load coll_size vs sequential_time \n",
    "coll_size_vs_tseq_df = pd.read_csv('../Statistics/collection_size_vs_sequential_time.csv')\n",
    "coll_size_vs_tseq_df.head()\n",
    "\n",
    "coll_sizes = coll_size_vs_tseq_df['collection_size']\n",
    "sequential_times = coll_size_vs_tseq_df['sequential_time']\n",
    "coll_size_vs_tseq_df.head()"
   ]
  },
  {
   "cell_type": "code",
   "execution_count": 183,
   "metadata": {},
   "outputs": [
    {
     "data": {
      "text/html": [
       "<div>\n",
       "<style scoped>\n",
       "    .dataframe tbody tr th:only-of-type {\n",
       "        vertical-align: middle;\n",
       "    }\n",
       "\n",
       "    .dataframe tbody tr th {\n",
       "        vertical-align: top;\n",
       "    }\n",
       "\n",
       "    .dataframe thead th {\n",
       "        text-align: right;\n",
       "    }\n",
       "</style>\n",
       "<table border=\"1\" class=\"dataframe\">\n",
       "  <thead>\n",
       "    <tr style=\"text-align: right;\">\n",
       "      <th></th>\n",
       "      <th>nw</th>\n",
       "      <th>completion_time</th>\n",
       "    </tr>\n",
       "  </thead>\n",
       "  <tbody>\n",
       "    <tr>\n",
       "      <th>0</th>\n",
       "      <td>1</td>\n",
       "      <td>314362</td>\n",
       "    </tr>\n",
       "    <tr>\n",
       "      <th>1</th>\n",
       "      <td>2</td>\n",
       "      <td>160411</td>\n",
       "    </tr>\n",
       "    <tr>\n",
       "      <th>2</th>\n",
       "      <td>3</td>\n",
       "      <td>104139</td>\n",
       "    </tr>\n",
       "    <tr>\n",
       "      <th>3</th>\n",
       "      <td>4</td>\n",
       "      <td>79062</td>\n",
       "    </tr>\n",
       "    <tr>\n",
       "      <th>4</th>\n",
       "      <td>5</td>\n",
       "      <td>81135</td>\n",
       "    </tr>\n",
       "  </tbody>\n",
       "</table>\n",
       "</div>"
      ],
      "text/plain": [
       "   nw  completion_time\n",
       "0   1           314362\n",
       "1   2           160411\n",
       "2   3           104139\n",
       "3   4            79062\n",
       "4   5            81135"
      ]
     },
     "execution_count": 183,
     "metadata": {},
     "output_type": "execute_result"
    }
   ],
   "source": [
    "# load completion_time vs nw for each coll size\n",
    "tc_vs_nw_df_list = []\n",
    "for coll_size in coll_sizes:\n",
    "    df = pd.read_csv('../Statistics/CollSize/completion_time_vs_nw_coll_size_' + \n",
    "                     str(coll_size) + '.csv')\n",
    "    tc_vs_nw_df_list.append(df)\n",
    "\n",
    "tc_vs_nw_df_list[0].head()"
   ]
  },
  {
   "cell_type": "code",
   "execution_count": 184,
   "metadata": {
    "collapsed": true
   },
   "outputs": [],
   "source": [
    "max_speedups = []\n",
    "max_scalabilities = []\n",
    "\n",
    "for i in range(len(tc_vs_nw_df_list)):\n",
    "    tseq = sequential_times[i]\n",
    "    tc_list = df['completion_time']\n",
    "    speedup = [tseq/float(tc) for tc in tc_list]\n",
    "    scalability = [tc_list[0]/float(tc) for tc in tc_list]\n",
    "    \n",
    "    max_speedups.append(np.max(speedup))\n",
    "    max_scalabilities.append(np.max(scalability))"
   ]
  },
  {
   "cell_type": "code",
   "execution_count": 185,
   "metadata": {},
   "outputs": [
    {
     "data": {
      "image/png": "[encoded data removed]",
      "text/plain": [
       "<Figure size 432x288 with 1 Axes>"
      ]
     },
     "metadata": {},
     "output_type": "display_data"
    }
   ],
   "source": [
    "plt.plot(coll_sizes, max_speedups, 'o-', color='black', label='max speedup')\n",
    "#plt.plot(coll_sizes, max_scalabilities, 'x-', color='grey', label='max scalability')\n",
    "plt.xscale('log')\n",
    "plt.ylabel('Max Speedup')\n",
    "plt.xlabel('Collection Size')\n",
    "plt.show()"
   ]
  },
  {
   "cell_type": "code",
   "execution_count": null,
   "metadata": {
    "collapsed": true
   },
   "outputs": [],
   "source": []
  },
  {
   "cell_type": "code",
   "execution_count": null,
   "metadata": {
    "collapsed": true
   },
   "outputs": [],
   "source": []
  }
 ],
 "metadata": {
  "kernelspec": {
   "display_name": "Python 3",
   "language": "python",
   "name": "python3"
  },
  "language_info": {
   "codemirror_mode": {
    "name": "ipython",
    "version": 3
   },
   "file_extension": ".py",
   "mimetype": "text/x-python",
   "name": "python",
   "nbconvert_exporter": "python",
   "pygments_lexer": "ipython3",
   "version": "3.5.2"
  }
 },
 "nbformat": 4,
 "nbformat_minor": 2
}
