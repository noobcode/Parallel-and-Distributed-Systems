{
 "cells": [
  {
   "cell_type": "markdown",
   "metadata": {},
   "source": [
    "# TODO\n",
    "- (argmax, max) per speedup e scalabilita\n",
    "- qualcosa vs dimensione collezione (n) per vedere la gustafson legge"
   ]
  },
  {
   "cell_type": "code",
   "execution_count": 1,
   "metadata": {
    "collapsed": true
   },
   "outputs": [],
   "source": [
    "import matplotlib.pyplot as plt\n",
    "import pandas as pd\n",
    "import numpy as np"
   ]
  },
  {
   "cell_type": "code",
   "execution_count": 2,
   "metadata": {},
   "outputs": [
    {
     "data": {
      "text/html": [
       "<div>\n",
       "<style scoped>\n",
       "    .dataframe tbody tr th:only-of-type {\n",
       "        vertical-align: middle;\n",
       "    }\n",
       "\n",
       "    .dataframe tbody tr th {\n",
       "        vertical-align: top;\n",
       "    }\n",
       "\n",
       "    .dataframe thead th {\n",
       "        text-align: right;\n",
       "    }\n",
       "</style>\n",
       "<table border=\"1\" class=\"dataframe\">\n",
       "  <thead>\n",
       "    <tr style=\"text-align: right;\">\n",
       "      <th></th>\n",
       "      <th>max_nw</th>\n",
       "      <th>active_workers_history</th>\n",
       "      <th>service_time_history</th>\n",
       "      <th>service_time_goal</th>\n",
       "      <th>emitter_elapsed_time_history</th>\n",
       "      <th>workers_elapsed_time_history</th>\n",
       "      <th>collector_elapsed_time_history</th>\n",
       "    </tr>\n",
       "  </thead>\n",
       "  <tbody>\n",
       "    <tr>\n",
       "      <th>0</th>\n",
       "      <td>8</td>\n",
       "      <td>1</td>\n",
       "      <td>114</td>\n",
       "      <td>1000</td>\n",
       "      <td>573</td>\n",
       "      <td>241</td>\n",
       "      <td>358</td>\n",
       "    </tr>\n",
       "    <tr>\n",
       "      <th>1</th>\n",
       "      <td>8</td>\n",
       "      <td>1</td>\n",
       "      <td>252</td>\n",
       "      <td>1000</td>\n",
       "      <td>19</td>\n",
       "      <td>254</td>\n",
       "      <td>1</td>\n",
       "    </tr>\n",
       "    <tr>\n",
       "      <th>2</th>\n",
       "      <td>8</td>\n",
       "      <td>1</td>\n",
       "      <td>153</td>\n",
       "      <td>1000</td>\n",
       "      <td>260</td>\n",
       "      <td>148</td>\n",
       "      <td>124</td>\n",
       "    </tr>\n",
       "    <tr>\n",
       "      <th>3</th>\n",
       "      <td>8</td>\n",
       "      <td>1</td>\n",
       "      <td>222</td>\n",
       "      <td>1000</td>\n",
       "      <td>15</td>\n",
       "      <td>226</td>\n",
       "      <td>200</td>\n",
       "    </tr>\n",
       "    <tr>\n",
       "      <th>4</th>\n",
       "      <td>8</td>\n",
       "      <td>1</td>\n",
       "      <td>164</td>\n",
       "      <td>1000</td>\n",
       "      <td>171</td>\n",
       "      <td>161</td>\n",
       "      <td>0</td>\n",
       "    </tr>\n",
       "  </tbody>\n",
       "</table>\n",
       "</div>"
      ],
      "text/plain": [
       "   max_nw  active_workers_history  service_time_history  service_time_goal  \\\n",
       "0       8                       1                   114               1000   \n",
       "1       8                       1                   252               1000   \n",
       "2       8                       1                   153               1000   \n",
       "3       8                       1                   222               1000   \n",
       "4       8                       1                   164               1000   \n",
       "\n",
       "   emitter_elapsed_time_history  workers_elapsed_time_history  \\\n",
       "0                           573                           241   \n",
       "1                            19                           254   \n",
       "2                           260                           148   \n",
       "3                            15                           226   \n",
       "4                           171                           161   \n",
       "\n",
       "   collector_elapsed_time_history  \n",
       "0                             358  \n",
       "1                               1  \n",
       "2                             124  \n",
       "3                             200  \n",
       "4                               0  "
      ]
     },
     "execution_count": 2,
     "metadata": {},
     "output_type": "execute_result"
    }
   ],
   "source": [
    "results_df = pd.read_csv(\"../Statistics/service_time_trial.csv\")\n",
    "results_df.head()"
   ]
  },
  {
   "cell_type": "markdown",
   "metadata": {},
   "source": [
    "### Service Time History"
   ]
  },
  {
   "cell_type": "code",
   "execution_count": 3,
   "metadata": {},
   "outputs": [
    {
     "data": {
      "image/png": "[encoded data removed]",
      "text/plain": [
       "<Figure size 432x288 with 1 Axes>"
      ]
     },
     "metadata": {},
     "output_type": "display_data"
    }
   ],
   "source": [
    "# plot servive_time_history vs service_time_goal\n",
    "results_df.plot(y=['service_time_history', 'service_time_goal'],\n",
    "                style=['-', '--'],\n",
    "                color=['gray', 'black'])\n",
    "\n",
    "plt.ylabel('Service Time (microseconds)')\n",
    "plt.xlabel('Task')\n",
    "plt.title('Service Time History')\n",
    "plt.show()"
   ]
  },
  {
   "cell_type": "markdown",
   "metadata": {},
   "source": [
    "### Service Time Error"
   ]
  },
  {
   "cell_type": "code",
   "execution_count": 4,
   "metadata": {},
   "outputs": [
    {
     "data": {
      "image/png": "[encoded data removed]",
      "text/plain": [
       "<Figure size 432x288 with 1 Axes>"
      ]
     },
     "metadata": {},
     "output_type": "display_data"
    }
   ],
   "source": [
    "# plot relative error between  service_time_goal and service_time_history\n",
    "y1 = np.array(results_df['service_time_history'])\n",
    "y2 = np.array(results_df['service_time_goal'])\n",
    "\n",
    "relative_error = (y1-y2)/y2\n",
    "\n",
    "plt.plot(relative_error)\n",
    "plt.ylabel('Relative Error')\n",
    "plt.xlabel('Task')\n",
    "plt.title('Service Time Error')\n",
    "plt.show()"
   ]
  },
  {
   "cell_type": "markdown",
   "metadata": {},
   "source": [
    "### Throughput"
   ]
  },
  {
   "cell_type": "code",
   "execution_count": 13,
   "metadata": {},
   "outputs": [
    {
     "data": {
      "image/png": "[encoded data removed]",
      "text/plain": [
       "<Figure size 432x288 with 1 Axes>"
      ]
     },
     "metadata": {},
     "output_type": "display_data"
    }
   ],
   "source": [
    "throughput_history = 1/y1\n",
    "throughtput_goal = 1/y2\n",
    "\n",
    "plt.plot(throughput_history,'-', color='black', label='throughput history')\n",
    "plt.plot(throughtput_goal, '--', color='black', label='throughput goal')\n",
    "plt.xlabel('Tasks')\n",
    "plt.ylabel('Throughput')\n",
    "plt.title('Throughput History')\n",
    "plt.show()"
   ]
  },
  {
   "cell_type": "markdown",
   "metadata": {},
   "source": [
    "### Parallelism Degree"
   ]
  },
  {
   "cell_type": "code",
   "execution_count": 70,
   "metadata": {},
   "outputs": [
    {
     "data": {
      "image/png": "[encoded data removed]",
      "text/plain": [
       "<Figure size 432x288 with 1 Axes>"
      ]
     },
     "metadata": {},
     "output_type": "display_data"
    }
   ],
   "source": [
    "# plot parallelism degree vs max nw\n",
    "results_df.plot(y=['active_workers_history', 'max_nw'],\n",
    "                style=['-', '--'],\n",
    "                color=['gray', 'black'])\n",
    "plt.ylabel('Workers')\n",
    "plt.xlabel('Tasks')\n",
    "plt.title('Parallelism Degree History')\n",
    "plt.show()"
   ]
  },
  {
   "cell_type": "code",
   "execution_count": 71,
   "metadata": {},
   "outputs": [
    {
     "data": {
      "image/png": "[encoded data removed]",
      "text/plain": [
       "<Figure size 432x288 with 1 Axes>"
      ]
     },
     "metadata": {},
     "output_type": "display_data"
    }
   ],
   "source": [
    "# plot emitter, workers and collector elapsed time history\n",
    "results_df.plot(y=['emitter_elapsed_time_history','workers_elapsed_time_history','collector_elapsed_time_history'],\n",
    "                style=['-', '--', ':'],\n",
    "                color=['lightgray', 'black', 'darkgray'])\n",
    "plt.ylabel('Elapsed Time')\n",
    "plt.xlabel('Tasks')\n",
    "plt.title('Elapsed Time History')\n",
    "plt.show()"
   ]
  },
  {
   "cell_type": "markdown",
   "metadata": {},
   "source": [
    "### Completion Time"
   ]
  },
  {
   "cell_type": "code",
   "execution_count": 72,
   "metadata": {},
   "outputs": [
    {
     "data": {
      "text/html": [
       "<div>\n",
       "<style scoped>\n",
       "    .dataframe tbody tr th:only-of-type {\n",
       "        vertical-align: middle;\n",
       "    }\n",
       "\n",
       "    .dataframe tbody tr th {\n",
       "        vertical-align: top;\n",
       "    }\n",
       "\n",
       "    .dataframe thead th {\n",
       "        text-align: right;\n",
       "    }\n",
       "</style>\n",
       "<table border=\"1\" class=\"dataframe\">\n",
       "  <thead>\n",
       "    <tr style=\"text-align: right;\">\n",
       "      <th></th>\n",
       "      <th>nw</th>\n",
       "      <th>completion_time</th>\n",
       "    </tr>\n",
       "  </thead>\n",
       "  <tbody>\n",
       "    <tr>\n",
       "      <th>0</th>\n",
       "      <td>1</td>\n",
       "      <td>24760</td>\n",
       "    </tr>\n",
       "    <tr>\n",
       "      <th>1</th>\n",
       "      <td>2</td>\n",
       "      <td>9521</td>\n",
       "    </tr>\n",
       "    <tr>\n",
       "      <th>2</th>\n",
       "      <td>3</td>\n",
       "      <td>8821</td>\n",
       "    </tr>\n",
       "    <tr>\n",
       "      <th>3</th>\n",
       "      <td>4</td>\n",
       "      <td>5500</td>\n",
       "    </tr>\n",
       "    <tr>\n",
       "      <th>4</th>\n",
       "      <td>5</td>\n",
       "      <td>5038</td>\n",
       "    </tr>\n",
       "  </tbody>\n",
       "</table>\n",
       "</div>"
      ],
      "text/plain": [
       "   nw  completion_time\n",
       "0   1            24760\n",
       "1   2             9521\n",
       "2   3             8821\n",
       "3   4             5500\n",
       "4   5             5038"
      ]
     },
     "execution_count": 72,
     "metadata": {},
     "output_type": "execute_result"
    }
   ],
   "source": [
    "tc_vs_nw_df = pd.read_csv('../Statistics/completion_time_vs_nw.csv')\n",
    "tc_vs_nw_df.head()"
   ]
  },
  {
   "cell_type": "code",
   "execution_count": 73,
   "metadata": {},
   "outputs": [
    {
     "data": {
      "image/png": "[encoded data removed]",
      "text/plain": [
       "<Figure size 432x288 with 1 Axes>"
      ]
     },
     "metadata": {},
     "output_type": "display_data"
    }
   ],
   "source": [
    "tc_vs_nw_df.plot(x='nw', y='completion_time', style='-', color='black')\n",
    "plt.xlabel('#worker')\n",
    "plt.ylabel('Completion Time (microseconds)')\n",
    "plt.title('Completion Time')\n",
    "plt.show()"
   ]
  },
  {
   "cell_type": "code",
   "execution_count": 74,
   "metadata": {},
   "outputs": [
    {
     "name": "stdout",
     "output_type": "stream",
     "text": [
      "min completion time: 3921 obtained with 8 workers\n"
     ]
    },
    {
     "name": "stderr",
     "output_type": "stream",
     "text": [
      "/usr/local/lib/python3.5/dist-packages/numpy/core/fromnumeric.py:52: FutureWarning: 'argmin' is deprecated, use 'idxmin' instead. The behavior of 'argmin'\n",
      "will be corrected to return the positional minimum in the future.\n",
      "Use 'series.values.argmin' to get the position of the minimum now.\n",
      "  return getattr(obj, method)(*args, **kwds)\n"
     ]
    }
   ],
   "source": [
    "print(\"min completion time:\", np.min(tc_vs_nw_df['completion_time']), \n",
    "      \"obtained with\", np.argmin(tc_vs_nw_df['completion_time'])+1, \"workers\")"
   ]
  },
  {
   "cell_type": "markdown",
   "metadata": {},
   "source": [
    "### Scalability"
   ]
  },
  {
   "cell_type": "code",
   "execution_count": 75,
   "metadata": {
    "scrolled": true
   },
   "outputs": [
    {
     "data": {
      "image/png": "[encoded data removed]",
      "text/plain": [
       "<Figure size 432x288 with 1 Axes>"
      ]
     },
     "metadata": {},
     "output_type": "display_data"
    }
   ],
   "source": [
    "# scalability\n",
    "tc = tc_vs_nw_df['completion_time']\n",
    "nw = tc_vs_nw_df['nw']\n",
    "\n",
    "scalability = [tc[0]/float(t) for t in tc]\n",
    "\n",
    "plt.plot(nw, scalability, linestyle='-', label='actual scalability', color='darkgray')\n",
    "plt.plot(nw, nw, linestyle='--', label='ideal scalability', color='black')\n",
    "plt.legend(loc='best')\n",
    "plt.xlabel('#worker')\n",
    "plt.ylabel('Scalability')\n",
    "plt.ylim([0, np.max(nw)])\n",
    "plt.xlim([1, np.max(nw)])\n",
    "plt.title('Scalability')\n",
    "plt.show()"
   ]
  },
  {
   "cell_type": "code",
   "execution_count": 76,
   "metadata": {},
   "outputs": [
    {
     "name": "stdout",
     "output_type": "stream",
     "text": [
      "max scalability: 6.3147 obtained with 8 workers\n"
     ]
    }
   ],
   "source": [
    "n_worker, max_scalability = np.argmax(scalability), np.max(scalability)\n",
    "print(\"max scalability:\", round(max_scalability,4), \"obtained with\", n_worker+1, \"workers\")"
   ]
  },
  {
   "cell_type": "markdown",
   "metadata": {},
   "source": [
    "### Speedup"
   ]
  },
  {
   "cell_type": "code",
   "execution_count": 77,
   "metadata": {},
   "outputs": [
    {
     "data": {
      "text/html": [
       "<div>\n",
       "<style scoped>\n",
       "    .dataframe tbody tr th:only-of-type {\n",
       "        vertical-align: middle;\n",
       "    }\n",
       "\n",
       "    .dataframe tbody tr th {\n",
       "        vertical-align: top;\n",
       "    }\n",
       "\n",
       "    .dataframe thead th {\n",
       "        text-align: right;\n",
       "    }\n",
       "</style>\n",
       "<table border=\"1\" class=\"dataframe\">\n",
       "  <thead>\n",
       "    <tr style=\"text-align: right;\">\n",
       "      <th></th>\n",
       "      <th>sequential_time</th>\n",
       "    </tr>\n",
       "  </thead>\n",
       "  <tbody>\n",
       "    <tr>\n",
       "      <th>0</th>\n",
       "      <td>15007</td>\n",
       "    </tr>\n",
       "  </tbody>\n",
       "</table>\n",
       "</div>"
      ],
      "text/plain": [
       "   sequential_time\n",
       "0            15007"
      ]
     },
     "execution_count": 77,
     "metadata": {},
     "output_type": "execute_result"
    }
   ],
   "source": [
    "# speedup\n",
    "sequential_time = pd.read_csv('../Statistics/sequential_time.csv')\n",
    "sequential_time"
   ]
  },
  {
   "cell_type": "code",
   "execution_count": 78,
   "metadata": {},
   "outputs": [
    {
     "data": {
      "image/png": "[encoded data removed]",
      "text/plain": [
       "<Figure size 432x288 with 1 Axes>"
      ]
     },
     "metadata": {},
     "output_type": "display_data"
    }
   ],
   "source": [
    "tseq = sequential_time['sequential_time']\n",
    "speedup = [tseq/float(t) for t in tc]\n",
    "\n",
    "plt.plot(nw, speedup, linestyle='-', label='actual speedup', color='black')\n",
    "plt.plot(nw, nw, linestyle='--', label='ideal speedup', color='black')\n",
    "plt.legend(loc='best')\n",
    "plt.xlabel('#worker')\n",
    "plt.ylabel('Speedup')\n",
    "plt.ylim([0, np.max(nw)])\n",
    "plt.xlim([1, np.max(nw)])\n",
    "plt.title('Speedup')\n",
    "plt.show()"
   ]
  },
  {
   "cell_type": "code",
   "execution_count": 79,
   "metadata": {},
   "outputs": [
    {
     "name": "stdout",
     "output_type": "stream",
     "text": [
      "max speedup: 3.8273 obtained with 8 workers\n"
     ]
    }
   ],
   "source": [
    "n_worker, max_speedup = np.argmax(speedup), np.max(speedup)\n",
    "print(\"max speedup:\", round(max_speedup,4), \"obtained with\", n_worker+1, \"workers\")"
   ]
  },
  {
   "cell_type": "markdown",
   "metadata": {},
   "source": [
    "### Efficiency"
   ]
  },
  {
   "cell_type": "code",
   "execution_count": 80,
   "metadata": {},
   "outputs": [
    {
     "data": {
      "image/png": "[encoded data removed]",
      "text/plain": [
       "<Figure size 432x288 with 1 Axes>"
      ]
     },
     "metadata": {},
     "output_type": "display_data"
    }
   ],
   "source": [
    "efficiency = [ sp/float(n) for n, sp in zip(nw, speedup)]\n",
    "plt.hlines(1, 1, max(nw), linestyle='--', label='max efficiency')\n",
    "plt.plot(nw, efficiency, color='black', label='efficiency')\n",
    "plt.xlabel('# Worker')\n",
    "plt.ylabel('Efficiency')\n",
    "plt.title('Efficiency')\n",
    "plt.legend(loc='best')\n",
    "plt.show()"
   ]
  },
  {
   "cell_type": "code",
   "execution_count": 81,
   "metadata": {},
   "outputs": [
    {
     "name": "stdout",
     "output_type": "stream",
     "text": [
      "max efficiency: 0.7880999894969016 with nw= 2\n",
      "min efficiency: 0.47789949684733457 with nw= 7\n"
     ]
    }
   ],
   "source": [
    "print(\"max efficiency:\", np.max(efficiency), \"with nw=\", np.argmax(efficiency)+1)\n",
    "print(\"min efficiency:\", np.min(efficiency), \"with nw=\", np.argmin(efficiency)+1)"
   ]
  },
  {
   "cell_type": "markdown",
   "metadata": {},
   "source": [
    "### Alpha\n",
    "- colonna 1: alpha\n",
    "- colonna 2: ts_goal\n",
    "- colonna 3-fine: service_time_history"
   ]
  },
  {
   "cell_type": "code",
   "execution_count": 82,
   "metadata": {},
   "outputs": [
    {
     "data": {
      "text/html": [
       "<div>\n",
       "<style scoped>\n",
       "    .dataframe tbody tr th:only-of-type {\n",
       "        vertical-align: middle;\n",
       "    }\n",
       "\n",
       "    .dataframe tbody tr th {\n",
       "        vertical-align: top;\n",
       "    }\n",
       "\n",
       "    .dataframe thead th {\n",
       "        text-align: right;\n",
       "    }\n",
       "</style>\n",
       "<table border=\"1\" class=\"dataframe\">\n",
       "  <thead>\n",
       "    <tr style=\"text-align: right;\">\n",
       "      <th></th>\n",
       "      <th>0</th>\n",
       "      <th>1</th>\n",
       "      <th>2</th>\n",
       "      <th>3</th>\n",
       "      <th>4</th>\n",
       "      <th>5</th>\n",
       "      <th>6</th>\n",
       "      <th>7</th>\n",
       "      <th>8</th>\n",
       "      <th>9</th>\n",
       "      <th>...</th>\n",
       "      <th>142</th>\n",
       "      <th>143</th>\n",
       "      <th>144</th>\n",
       "      <th>145</th>\n",
       "      <th>146</th>\n",
       "      <th>147</th>\n",
       "      <th>148</th>\n",
       "      <th>149</th>\n",
       "      <th>150</th>\n",
       "      <th>151</th>\n",
       "    </tr>\n",
       "  </thead>\n",
       "  <tbody>\n",
       "    <tr>\n",
       "      <th>0</th>\n",
       "      <td>0.05</td>\n",
       "      <td>1000</td>\n",
       "      <td>2</td>\n",
       "      <td>10</td>\n",
       "      <td>14</td>\n",
       "      <td>18</td>\n",
       "      <td>22</td>\n",
       "      <td>26</td>\n",
       "      <td>30</td>\n",
       "      <td>33</td>\n",
       "      <td>...</td>\n",
       "      <td>115</td>\n",
       "      <td>114</td>\n",
       "      <td>113</td>\n",
       "      <td>112</td>\n",
       "      <td>111</td>\n",
       "      <td>110</td>\n",
       "      <td>109</td>\n",
       "      <td>108</td>\n",
       "      <td>107</td>\n",
       "      <td>107</td>\n",
       "    </tr>\n",
       "    <tr>\n",
       "      <th>1</th>\n",
       "      <td>0.10</td>\n",
       "      <td>1000</td>\n",
       "      <td>5</td>\n",
       "      <td>21</td>\n",
       "      <td>29</td>\n",
       "      <td>37</td>\n",
       "      <td>44</td>\n",
       "      <td>50</td>\n",
       "      <td>55</td>\n",
       "      <td>60</td>\n",
       "      <td>...</td>\n",
       "      <td>105</td>\n",
       "      <td>105</td>\n",
       "      <td>105</td>\n",
       "      <td>105</td>\n",
       "      <td>105</td>\n",
       "      <td>105</td>\n",
       "      <td>105</td>\n",
       "      <td>105</td>\n",
       "      <td>105</td>\n",
       "      <td>105</td>\n",
       "    </tr>\n",
       "    <tr>\n",
       "      <th>2</th>\n",
       "      <td>0.15</td>\n",
       "      <td>1000</td>\n",
       "      <td>8</td>\n",
       "      <td>30</td>\n",
       "      <td>41</td>\n",
       "      <td>66</td>\n",
       "      <td>72</td>\n",
       "      <td>77</td>\n",
       "      <td>81</td>\n",
       "      <td>84</td>\n",
       "      <td>...</td>\n",
       "      <td>121</td>\n",
       "      <td>118</td>\n",
       "      <td>116</td>\n",
       "      <td>114</td>\n",
       "      <td>112</td>\n",
       "      <td>111</td>\n",
       "      <td>110</td>\n",
       "      <td>109</td>\n",
       "      <td>108</td>\n",
       "      <td>108</td>\n",
       "    </tr>\n",
       "    <tr>\n",
       "      <th>3</th>\n",
       "      <td>0.20</td>\n",
       "      <td>1000</td>\n",
       "      <td>11</td>\n",
       "      <td>40</td>\n",
       "      <td>53</td>\n",
       "      <td>64</td>\n",
       "      <td>72</td>\n",
       "      <td>79</td>\n",
       "      <td>85</td>\n",
       "      <td>89</td>\n",
       "      <td>...</td>\n",
       "      <td>108</td>\n",
       "      <td>107</td>\n",
       "      <td>107</td>\n",
       "      <td>107</td>\n",
       "      <td>107</td>\n",
       "      <td>107</td>\n",
       "      <td>107</td>\n",
       "      <td>107</td>\n",
       "      <td>107</td>\n",
       "      <td>107</td>\n",
       "    </tr>\n",
       "    <tr>\n",
       "      <th>4</th>\n",
       "      <td>0.25</td>\n",
       "      <td>1000</td>\n",
       "      <td>13</td>\n",
       "      <td>48</td>\n",
       "      <td>63</td>\n",
       "      <td>74</td>\n",
       "      <td>82</td>\n",
       "      <td>89</td>\n",
       "      <td>94</td>\n",
       "      <td>97</td>\n",
       "      <td>...</td>\n",
       "      <td>105</td>\n",
       "      <td>105</td>\n",
       "      <td>105</td>\n",
       "      <td>105</td>\n",
       "      <td>105</td>\n",
       "      <td>105</td>\n",
       "      <td>105</td>\n",
       "      <td>105</td>\n",
       "      <td>105</td>\n",
       "      <td>105</td>\n",
       "    </tr>\n",
       "  </tbody>\n",
       "</table>\n",
       "<p>5 rows × 152 columns</p>\n",
       "</div>"
      ],
      "text/plain": [
       "    0     1    2    3    4    5    6    7    8    9   ...   142  143  144  \\\n",
       "0  0.05  1000    2   10   14   18   22   26   30   33 ...   115  114  113   \n",
       "1  0.10  1000    5   21   29   37   44   50   55   60 ...   105  105  105   \n",
       "2  0.15  1000    8   30   41   66   72   77   81   84 ...   121  118  116   \n",
       "3  0.20  1000   11   40   53   64   72   79   85   89 ...   108  107  107   \n",
       "4  0.25  1000   13   48   63   74   82   89   94   97 ...   105  105  105   \n",
       "\n",
       "   145  146  147  148  149  150  151  \n",
       "0  112  111  110  109  108  107  107  \n",
       "1  105  105  105  105  105  105  105  \n",
       "2  114  112  111  110  109  108  108  \n",
       "3  107  107  107  107  107  107  107  \n",
       "4  105  105  105  105  105  105  105  \n",
       "\n",
       "[5 rows x 152 columns]"
      ]
     },
     "execution_count": 82,
     "metadata": {},
     "output_type": "execute_result"
    }
   ],
   "source": [
    "ts_vs_alpha_df = pd.read_csv(\"../Statistics/service_time_history_vs_alpha.csv\", header=None)\n",
    "ts_vs_alpha_df.head()"
   ]
  },
  {
   "cell_type": "markdown",
   "metadata": {},
   "source": [
    "- prova per n differenti"
   ]
  },
  {
   "cell_type": "code",
   "execution_count": 83,
   "metadata": {},
   "outputs": [
    {
     "data": {
      "text/plain": [
       "[]"
      ]
     },
     "execution_count": 83,
     "metadata": {},
     "output_type": "execute_result"
    },
    {
     "data": {
      "image/png": "[encoded data removed]",
      "text/plain": [
       "<Figure size 432x288 with 1 Axes>"
      ]
     },
     "metadata": {},
     "output_type": "display_data"
    }
   ],
   "source": [
    "#ts_vs_alpha_df.loc[0, 1:]\n",
    "alpha_values = ts_vs_alpha_df.loc[:,0]\n",
    "ts_goal = ts_vs_alpha_df.loc[0,1]\n",
    "\n",
    "ts_histories = np.array(ts_vs_alpha_df.loc[:, 2:])\n",
    "n_alpha, n_tasks = ts_histories.shape\n",
    "\n",
    "ts_goal = np.full((n_tasks),ts_goal)\n",
    "\n",
    "rel_errors = np.array([(ts - ts_goal)/ts_goal for ts in ts_histories])\n",
    "\n",
    "mean_rel_error = np.mean(rel_errors, 1)\n",
    "mean_abs_rel_error = np.mean(np.abs(rel_errors), 1)\n",
    "\n",
    "plt.plot(alpha_values, mean_rel_error, label='mean relative error', linestyle='-', color='black')\n",
    "plt.plot(alpha_values, mean_abs_rel_error, label='mean absolute relative error', linestyle='--', color='darkgray')\n",
    "plt.legend(loc='best')\n",
    "plt.xlabel('Alpha')\n",
    "plt.ylabel('Relative Error')\n",
    "plt.title('Alpha')\n",
    "plt.plot()"
   ]
  },
  {
   "cell_type": "code",
   "execution_count": 84,
   "metadata": {},
   "outputs": [
    {
     "name": "stdout",
     "output_type": "stream",
     "text": [
      "min rel error: -0.9101 obtained with alpha: 0.05\n",
      "min abs rel error: 0.8869 obtained with alpha: 0.1\n"
     ]
    }
   ],
   "source": [
    "print(\"min rel error:\", round(np.min(mean_rel_error),4), \"obtained with alpha:\", alpha_values[np.argmin(mean_rel_error)])\n",
    "print(\"min abs rel error:\", round(np.min(mean_abs_rel_error),4), \"obtained with alpha:\", alpha_values[np.argmin(mean_abs_rel_error)])"
   ]
  },
  {
   "cell_type": "markdown",
   "metadata": {
    "collapsed": true
   },
   "source": [
    "### Max speedup / scalability vs task size"
   ]
  },
  {
   "cell_type": "code",
   "execution_count": 85,
   "metadata": {},
   "outputs": [
    {
     "data": {
      "text/html": [
       "<div>\n",
       "<style scoped>\n",
       "    .dataframe tbody tr th:only-of-type {\n",
       "        vertical-align: middle;\n",
       "    }\n",
       "\n",
       "    .dataframe tbody tr th {\n",
       "        vertical-align: top;\n",
       "    }\n",
       "\n",
       "    .dataframe thead th {\n",
       "        text-align: right;\n",
       "    }\n",
       "</style>\n",
       "<table border=\"1\" class=\"dataframe\">\n",
       "  <thead>\n",
       "    <tr style=\"text-align: right;\">\n",
       "      <th></th>\n",
       "      <th>task_size</th>\n",
       "      <th>sequential_time</th>\n",
       "    </tr>\n",
       "  </thead>\n",
       "  <tbody>\n",
       "    <tr>\n",
       "      <th>0</th>\n",
       "      <td>1000</td>\n",
       "      <td>150011</td>\n",
       "    </tr>\n",
       "    <tr>\n",
       "      <th>1</th>\n",
       "      <td>2000</td>\n",
       "      <td>300011</td>\n",
       "    </tr>\n",
       "    <tr>\n",
       "      <th>2</th>\n",
       "      <td>3000</td>\n",
       "      <td>450011</td>\n",
       "    </tr>\n",
       "    <tr>\n",
       "      <th>3</th>\n",
       "      <td>4000</td>\n",
       "      <td>600023</td>\n",
       "    </tr>\n",
       "    <tr>\n",
       "      <th>4</th>\n",
       "      <td>5000</td>\n",
       "      <td>750039</td>\n",
       "    </tr>\n",
       "  </tbody>\n",
       "</table>\n",
       "</div>"
      ],
      "text/plain": [
       "   task_size  sequential_time\n",
       "0       1000           150011\n",
       "1       2000           300011\n",
       "2       3000           450011\n",
       "3       4000           600023\n",
       "4       5000           750039"
      ]
     },
     "execution_count": 85,
     "metadata": {},
     "output_type": "execute_result"
    }
   ],
   "source": [
    "# load task_size vs sequential_time \n",
    "task_size_vs_tseq_df = pd.read_csv('../Statistics/task_size_vs_sequential_time.csv')\n",
    "task_size_vs_tseq_df.head()\n",
    "\n",
    "task_sizes = task_size_vs_tseq_df['task_size']\n",
    "sequential_times = task_size_vs_tseq_df['sequential_time']\n",
    "task_size_vs_tseq_df.head()"
   ]
  },
  {
   "cell_type": "code",
   "execution_count": 86,
   "metadata": {},
   "outputs": [
    {
     "data": {
      "text/html": [
       "<div>\n",
       "<style scoped>\n",
       "    .dataframe tbody tr th:only-of-type {\n",
       "        vertical-align: middle;\n",
       "    }\n",
       "\n",
       "    .dataframe tbody tr th {\n",
       "        vertical-align: top;\n",
       "    }\n",
       "\n",
       "    .dataframe thead th {\n",
       "        text-align: right;\n",
       "    }\n",
       "</style>\n",
       "<table border=\"1\" class=\"dataframe\">\n",
       "  <thead>\n",
       "    <tr style=\"text-align: right;\">\n",
       "      <th></th>\n",
       "      <th>nw</th>\n",
       "      <th>completion_time</th>\n",
       "    </tr>\n",
       "  </thead>\n",
       "  <tbody>\n",
       "    <tr>\n",
       "      <th>0</th>\n",
       "      <td>1</td>\n",
       "      <td>151595</td>\n",
       "    </tr>\n",
       "    <tr>\n",
       "      <th>1</th>\n",
       "      <td>2</td>\n",
       "      <td>78950</td>\n",
       "    </tr>\n",
       "    <tr>\n",
       "      <th>2</th>\n",
       "      <td>3</td>\n",
       "      <td>51121</td>\n",
       "    </tr>\n",
       "    <tr>\n",
       "      <th>3</th>\n",
       "      <td>4</td>\n",
       "      <td>48365</td>\n",
       "    </tr>\n",
       "    <tr>\n",
       "      <th>4</th>\n",
       "      <td>5</td>\n",
       "      <td>39381</td>\n",
       "    </tr>\n",
       "  </tbody>\n",
       "</table>\n",
       "</div>"
      ],
      "text/plain": [
       "   nw  completion_time\n",
       "0   1           151595\n",
       "1   2            78950\n",
       "2   3            51121\n",
       "3   4            48365\n",
       "4   5            39381"
      ]
     },
     "execution_count": 86,
     "metadata": {},
     "output_type": "execute_result"
    }
   ],
   "source": [
    "# load completion_time vs nw for each task size\n",
    "tc_vs_nw_df_list = []\n",
    "for task_size in task_sizes:\n",
    "    df = pd.read_csv('../Statistics/TaskSize/completion_time_vs_nw_task_size_' + \n",
    "                     str(task_size) + '.csv')\n",
    "    tc_vs_nw_df_list.append(df)\n",
    "\n",
    "tc_vs_nw_df_list[0].head()"
   ]
  },
  {
   "cell_type": "code",
   "execution_count": 87,
   "metadata": {
    "collapsed": true
   },
   "outputs": [],
   "source": [
    "max_speedups = []\n",
    "max_scalabilities = []\n",
    "\n",
    "for i in range(len(tc_vs_nw_df_list)):\n",
    "    tseq = sequential_times[i]\n",
    "    tc_list = df['completion_time']\n",
    "    speedup = [tseq/float(tc) for tc in tc_list]\n",
    "    scalability = [tc_list[0]/float(tc) for tc in tc_list]\n",
    "    \n",
    "    max_speedups.append(np.max(speedup))\n",
    "    max_scalabilities.append(np.max(scalability))"
   ]
  },
  {
   "cell_type": "code",
   "execution_count": 88,
   "metadata": {},
   "outputs": [
    {
     "data": {
      "image/png": "[encoded data removed]",
      "text/plain": [
       "<Figure size 432x288 with 1 Axes>"
      ]
     },
     "metadata": {},
     "output_type": "display_data"
    }
   ],
   "source": [
    "plt.plot(task_sizes, max_speedups, 'o-', color='black', label='max speedup')\n",
    "#plt.plot(task_sizes, max_scalabilities, 'x-', color='grey', label='max scalability')\n",
    "plt.ylabel('Max Speedup')\n",
    "plt.xlabel('Task Size')\n",
    "plt.show()"
   ]
  },
  {
   "cell_type": "markdown",
   "metadata": {},
   "source": [
    "### Max Speedup / Scalability vs Collection Size"
   ]
  },
  {
   "cell_type": "code",
   "execution_count": 89,
   "metadata": {},
   "outputs": [
    {
     "data": {
      "text/html": [
       "<div>\n",
       "<style scoped>\n",
       "    .dataframe tbody tr th:only-of-type {\n",
       "        vertical-align: middle;\n",
       "    }\n",
       "\n",
       "    .dataframe tbody tr th {\n",
       "        vertical-align: top;\n",
       "    }\n",
       "\n",
       "    .dataframe thead th {\n",
       "        text-align: right;\n",
       "    }\n",
       "</style>\n",
       "<table border=\"1\" class=\"dataframe\">\n",
       "  <thead>\n",
       "    <tr style=\"text-align: right;\">\n",
       "      <th></th>\n",
       "      <th>collection_size</th>\n",
       "      <th>sequential_time</th>\n",
       "    </tr>\n",
       "  </thead>\n",
       "  <tbody>\n",
       "    <tr>\n",
       "      <th>0</th>\n",
       "      <td>300</td>\n",
       "      <td>30048</td>\n",
       "    </tr>\n",
       "    <tr>\n",
       "      <th>1</th>\n",
       "      <td>600</td>\n",
       "      <td>60047</td>\n",
       "    </tr>\n",
       "    <tr>\n",
       "      <th>2</th>\n",
       "      <td>900</td>\n",
       "      <td>90096</td>\n",
       "    </tr>\n",
       "    <tr>\n",
       "      <th>3</th>\n",
       "      <td>1200</td>\n",
       "      <td>120091</td>\n",
       "    </tr>\n",
       "    <tr>\n",
       "      <th>4</th>\n",
       "      <td>1500</td>\n",
       "      <td>150134</td>\n",
       "    </tr>\n",
       "  </tbody>\n",
       "</table>\n",
       "</div>"
      ],
      "text/plain": [
       "   collection_size  sequential_time\n",
       "0              300            30048\n",
       "1              600            60047\n",
       "2              900            90096\n",
       "3             1200           120091\n",
       "4             1500           150134"
      ]
     },
     "execution_count": 89,
     "metadata": {},
     "output_type": "execute_result"
    }
   ],
   "source": [
    "# load coll_size vs sequential_time \n",
    "coll_size_vs_tseq_df = pd.read_csv('../Statistics/collection_size_vs_sequential_time.csv')\n",
    "coll_size_vs_tseq_df.head()\n",
    "\n",
    "coll_sizes = coll_size_vs_tseq_df['collection_size']\n",
    "sequential_times = coll_size_vs_tseq_df['sequential_time']\n",
    "coll_size_vs_tseq_df.head()"
   ]
  },
  {
   "cell_type": "code",
   "execution_count": 90,
   "metadata": {},
   "outputs": [
    {
     "data": {
      "text/html": [
       "<div>\n",
       "<style scoped>\n",
       "    .dataframe tbody tr th:only-of-type {\n",
       "        vertical-align: middle;\n",
       "    }\n",
       "\n",
       "    .dataframe tbody tr th {\n",
       "        vertical-align: top;\n",
       "    }\n",
       "\n",
       "    .dataframe thead th {\n",
       "        text-align: right;\n",
       "    }\n",
       "</style>\n",
       "<table border=\"1\" class=\"dataframe\">\n",
       "  <thead>\n",
       "    <tr style=\"text-align: right;\">\n",
       "      <th></th>\n",
       "      <th>nw</th>\n",
       "      <th>completion_time</th>\n",
       "    </tr>\n",
       "  </thead>\n",
       "  <tbody>\n",
       "    <tr>\n",
       "      <th>0</th>\n",
       "      <td>1</td>\n",
       "      <td>33573</td>\n",
       "    </tr>\n",
       "    <tr>\n",
       "      <th>1</th>\n",
       "      <td>2</td>\n",
       "      <td>16537</td>\n",
       "    </tr>\n",
       "    <tr>\n",
       "      <th>2</th>\n",
       "      <td>3</td>\n",
       "      <td>11306</td>\n",
       "    </tr>\n",
       "    <tr>\n",
       "      <th>3</th>\n",
       "      <td>4</td>\n",
       "      <td>9668</td>\n",
       "    </tr>\n",
       "    <tr>\n",
       "      <th>4</th>\n",
       "      <td>5</td>\n",
       "      <td>9556</td>\n",
       "    </tr>\n",
       "  </tbody>\n",
       "</table>\n",
       "</div>"
      ],
      "text/plain": [
       "   nw  completion_time\n",
       "0   1            33573\n",
       "1   2            16537\n",
       "2   3            11306\n",
       "3   4             9668\n",
       "4   5             9556"
      ]
     },
     "execution_count": 90,
     "metadata": {},
     "output_type": "execute_result"
    }
   ],
   "source": [
    "# load completion_time vs nw for each coll size\n",
    "tc_vs_nw_df_list = []\n",
    "for coll_size in coll_sizes:\n",
    "    df = pd.read_csv('../Statistics/CollSize/completion_time_vs_nw_coll_size_' + \n",
    "                     str(coll_size) + '.csv')\n",
    "    tc_vs_nw_df_list.append(df)\n",
    "\n",
    "tc_vs_nw_df_list[0].head()"
   ]
  },
  {
   "cell_type": "code",
   "execution_count": 91,
   "metadata": {
    "collapsed": true
   },
   "outputs": [],
   "source": [
    "max_speedups = []\n",
    "max_scalabilities = []\n",
    "\n",
    "for i in range(len(tc_vs_nw_df_list)):\n",
    "    tseq = sequential_times[i]\n",
    "    tc_list = df['completion_time']\n",
    "    speedup = [tseq/float(tc) for tc in tc_list]\n",
    "    scalability = [tc_list[0]/float(tc) for tc in tc_list]\n",
    "    \n",
    "    max_speedups.append(np.max(speedup))\n",
    "    max_scalabilities.append(np.max(scalability))"
   ]
  },
  {
   "cell_type": "code",
   "execution_count": 92,
   "metadata": {},
   "outputs": [
    {
     "data": {
      "image/png": "[encoded data removed]",
      "text/plain": [
       "<Figure size 432x288 with 1 Axes>"
      ]
     },
     "metadata": {},
     "output_type": "display_data"
    }
   ],
   "source": [
    "plt.plot(coll_sizes, max_speedups, 'o-', color='black', label='max speedup')\n",
    "#plt.plot(coll_sizes, max_scalabilities, 'x-', color='grey', label='max scalability')\n",
    "plt.ylabel('Max Speedup')\n",
    "plt.xlabel('Collection Size')\n",
    "plt.show()"
   ]
  },
  {
   "cell_type": "code",
   "execution_count": null,
   "metadata": {
    "collapsed": true
   },
   "outputs": [],
   "source": []
  },
  {
   "cell_type": "code",
   "execution_count": null,
   "metadata": {
    "collapsed": true
   },
   "outputs": [],
   "source": []
  }
 ],
 "metadata": {
  "kernelspec": {
   "display_name": "Python 3",
   "language": "python",
   "name": "python3"
  },
  "language_info": {
   "codemirror_mode": {
    "name": "ipython",
    "version": 3
   },
   "file_extension": ".py",
   "mimetype": "text/x-python",
   "name": "python",
   "nbconvert_exporter": "python",
   "pygments_lexer": "ipython3",
   "version": "3.5.2"
  }
 },
 "nbformat": 4,
 "nbformat_minor": 2
}
